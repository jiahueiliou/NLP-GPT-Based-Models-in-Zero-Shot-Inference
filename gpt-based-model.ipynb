{
 "cells": [
  {
   "cell_type": "code",
   "execution_count": 1,
   "metadata": {},
   "outputs": [],
   "source": [
    "import openai\n",
    "\n",
    "import os\n",
    "\n",
    "import pandas as pd\n",
    "\n",
    "import time\n",
    "\n",
    "import requests"
   ]
  },
  {
   "cell_type": "code",
   "execution_count": 2,
   "metadata": {},
   "outputs": [],
   "source": [
    "openai.api_key = '<YOUR API KEY>'"
   ]
  },
  {
   "cell_type": "code",
   "execution_count": 3,
   "metadata": {},
   "outputs": [],
   "source": [
    "def get_completion(prompt, model=\"gpt-3.5-turbo\"):\n",
    "\n",
    "  messages = [{\"role\": \"user\", \"content\": prompt}]\n",
    "\n",
    "  response = openai.ChatCompletion.create(\n",
    "\n",
    "  model=model,\n",
    "\n",
    "  messages=messages,\n",
    "\n",
    "  temperature=0,\n",
    "\n",
    "  )\n",
    "\n",
    "  return response.choices[0].message[\"content\"]"
   ]
  },
  {
   "cell_type": "code",
   "execution_count": 4,
   "metadata": {},
   "outputs": [],
   "source": [
    "df_test = pd.read_csv(\"test.csv\")"
   ]
  },
  {
   "cell_type": "code",
   "execution_count": 5,
   "metadata": {},
   "outputs": [
    {
     "data": {
      "text/html": [
       "<div>\n",
       "<style scoped>\n",
       "    .dataframe tbody tr th:only-of-type {\n",
       "        vertical-align: middle;\n",
       "    }\n",
       "\n",
       "    .dataframe tbody tr th {\n",
       "        vertical-align: top;\n",
       "    }\n",
       "\n",
       "    .dataframe thead th {\n",
       "        text-align: right;\n",
       "    }\n",
       "</style>\n",
       "<table border=\"1\" class=\"dataframe\">\n",
       "  <thead>\n",
       "    <tr style=\"text-align: right;\">\n",
       "      <th></th>\n",
       "      <th>id</th>\n",
       "      <th>attributes.HappyHour</th>\n",
       "      <th>attributes.Ambience</th>\n",
       "      <th>hours.Tuesday</th>\n",
       "      <th>postal_code</th>\n",
       "      <th>attributes.AgesAllowed</th>\n",
       "      <th>attributes.GoodForDancing</th>\n",
       "      <th>attributes.OutdoorSeating</th>\n",
       "      <th>hours.Saturday</th>\n",
       "      <th>attributes.Corkage</th>\n",
       "      <th>...</th>\n",
       "      <th>attributes.BestNights</th>\n",
       "      <th>attributes.AcceptsInsurance</th>\n",
       "      <th>attributes.RestaurantsDelivery</th>\n",
       "      <th>attributes.DietaryRestrictions</th>\n",
       "      <th>attributes.BusinessAcceptsBitcoin</th>\n",
       "      <th>address</th>\n",
       "      <th>attributes.GoodForKids</th>\n",
       "      <th>attributes.GoodForMeal</th>\n",
       "      <th>hours</th>\n",
       "      <th>review</th>\n",
       "    </tr>\n",
       "  </thead>\n",
       "  <tbody>\n",
       "    <tr>\n",
       "      <th>0</th>\n",
       "      <td>0</td>\n",
       "      <td>NaN</td>\n",
       "      <td>b\"{'touristy': False, 'hipster': False, 'roman...</td>\n",
       "      <td>b'11:30-0:0'</td>\n",
       "      <td>b'M5A 1T1'</td>\n",
       "      <td>NaN</td>\n",
       "      <td>NaN</td>\n",
       "      <td>b'True'</td>\n",
       "      <td>b'17:0-2:0'</td>\n",
       "      <td>NaN</td>\n",
       "      <td>...</td>\n",
       "      <td>NaN</td>\n",
       "      <td>NaN</td>\n",
       "      <td>b'False'</td>\n",
       "      <td>NaN</td>\n",
       "      <td>NaN</td>\n",
       "      <td>b'366 Queen Street E'</td>\n",
       "      <td>b'False'</td>\n",
       "      <td>b\"{'dessert': False, 'latenight': False, 'lunc...</td>\n",
       "      <td>{'Tuesday': '11:30-0:0', 'Wednesday': '11:30-0...</td>\n",
       "      <td>Overall wonderful experience. \\n\\nThe owner Fa...</td>\n",
       "    </tr>\n",
       "    <tr>\n",
       "      <th>1</th>\n",
       "      <td>1</td>\n",
       "      <td>NaN</td>\n",
       "      <td>b\"{'romantic': False, 'intimate': False, 'clas...</td>\n",
       "      <td>b'12:0-21:0'</td>\n",
       "      <td>b'M6R 2N2'</td>\n",
       "      <td>NaN</td>\n",
       "      <td>NaN</td>\n",
       "      <td>b'True'</td>\n",
       "      <td>b'14:0-21:0'</td>\n",
       "      <td>NaN</td>\n",
       "      <td>...</td>\n",
       "      <td>NaN</td>\n",
       "      <td>NaN</td>\n",
       "      <td>b'False'</td>\n",
       "      <td>NaN</td>\n",
       "      <td>NaN</td>\n",
       "      <td>b'414 Roncesvalles Avenue'</td>\n",
       "      <td>b'True'</td>\n",
       "      <td>b\"{'dessert': False, 'latenight': False, 'lunc...</td>\n",
       "      <td>{'Monday': '12:0-21:0', 'Tuesday': '12:0-21:0'...</td>\n",
       "      <td>VIBE: Nieghbourhood hole. TV playing sports, p...</td>\n",
       "    </tr>\n",
       "    <tr>\n",
       "      <th>2</th>\n",
       "      <td>2</td>\n",
       "      <td>NaN</td>\n",
       "      <td>b\"{'romantic': False, 'intimate': False, 'tour...</td>\n",
       "      <td>NaN</td>\n",
       "      <td>b'53704'</td>\n",
       "      <td>NaN</td>\n",
       "      <td>NaN</td>\n",
       "      <td>b'False'</td>\n",
       "      <td>b'11:30-21:0'</td>\n",
       "      <td>NaN</td>\n",
       "      <td>...</td>\n",
       "      <td>NaN</td>\n",
       "      <td>NaN</td>\n",
       "      <td>NaN</td>\n",
       "      <td>NaN</td>\n",
       "      <td>NaN</td>\n",
       "      <td>b'2817 E Washington Ave'</td>\n",
       "      <td>b'True'</td>\n",
       "      <td>NaN</td>\n",
       "      <td>{'Monday': '11:30-21:0', 'Wednesday': '11:30-2...</td>\n",
       "      <td>Viet House is very good.  The food was fresh, ...</td>\n",
       "    </tr>\n",
       "    <tr>\n",
       "      <th>3</th>\n",
       "      <td>3</td>\n",
       "      <td>NaN</td>\n",
       "      <td>b\"{'romantic': False, 'intimate': False, 'clas...</td>\n",
       "      <td>b'17:0-21:30'</td>\n",
       "      <td>b'T2E 6Z3'</td>\n",
       "      <td>NaN</td>\n",
       "      <td>NaN</td>\n",
       "      <td>b'False'</td>\n",
       "      <td>b'17:0-22:0'</td>\n",
       "      <td>NaN</td>\n",
       "      <td>...</td>\n",
       "      <td>NaN</td>\n",
       "      <td>NaN</td>\n",
       "      <td>b'False'</td>\n",
       "      <td>NaN</td>\n",
       "      <td>NaN</td>\n",
       "      <td>b'2323 32 Avenue NE, Suite 108'</td>\n",
       "      <td>b'True'</td>\n",
       "      <td>b\"{'dessert': False, 'latenight': False, 'lunc...</td>\n",
       "      <td>{'Monday': '0:0-0:0', 'Tuesday': '17:0-21:30',...</td>\n",
       "      <td>This is a really good place. Not truly authent...</td>\n",
       "    </tr>\n",
       "    <tr>\n",
       "      <th>4</th>\n",
       "      <td>4</td>\n",
       "      <td>b'False'</td>\n",
       "      <td>b\"{'romantic': False, 'intimate': False, 'tour...</td>\n",
       "      <td>b'11:0-21:0'</td>\n",
       "      <td>b'85085'</td>\n",
       "      <td>NaN</td>\n",
       "      <td>b'False'</td>\n",
       "      <td>b'True'</td>\n",
       "      <td>b'11:0-22:0'</td>\n",
       "      <td>NaN</td>\n",
       "      <td>...</td>\n",
       "      <td>b\"{'monday': False, 'tuesday': False, 'friday'...</td>\n",
       "      <td>NaN</td>\n",
       "      <td>b'False'</td>\n",
       "      <td>NaN</td>\n",
       "      <td>NaN</td>\n",
       "      <td>b'2470 W Happy Valley Rd'</td>\n",
       "      <td>b'True'</td>\n",
       "      <td>b\"{'dessert': False, 'latenight': False, 'lunc...</td>\n",
       "      <td>{'Monday': '0:0-0:0', 'Tuesday': '11:0-21:0', ...</td>\n",
       "      <td>This place is great. Think fast food Italian s...</td>\n",
       "    </tr>\n",
       "  </tbody>\n",
       "</table>\n",
       "<p>5 rows × 61 columns</p>\n",
       "</div>"
      ],
      "text/plain": [
       "   id attributes.HappyHour                                attributes.Ambience  \\\n",
       "0   0                  NaN  b\"{'touristy': False, 'hipster': False, 'roman...   \n",
       "1   1                  NaN  b\"{'romantic': False, 'intimate': False, 'clas...   \n",
       "2   2                  NaN  b\"{'romantic': False, 'intimate': False, 'tour...   \n",
       "3   3                  NaN  b\"{'romantic': False, 'intimate': False, 'clas...   \n",
       "4   4             b'False'  b\"{'romantic': False, 'intimate': False, 'tour...   \n",
       "\n",
       "   hours.Tuesday postal_code attributes.AgesAllowed attributes.GoodForDancing  \\\n",
       "0   b'11:30-0:0'  b'M5A 1T1'                    NaN                       NaN   \n",
       "1   b'12:0-21:0'  b'M6R 2N2'                    NaN                       NaN   \n",
       "2            NaN    b'53704'                    NaN                       NaN   \n",
       "3  b'17:0-21:30'  b'T2E 6Z3'                    NaN                       NaN   \n",
       "4   b'11:0-21:0'    b'85085'                    NaN                  b'False'   \n",
       "\n",
       "  attributes.OutdoorSeating hours.Saturday attributes.Corkage  ...  \\\n",
       "0                   b'True'    b'17:0-2:0'                NaN  ...   \n",
       "1                   b'True'   b'14:0-21:0'                NaN  ...   \n",
       "2                  b'False'  b'11:30-21:0'                NaN  ...   \n",
       "3                  b'False'   b'17:0-22:0'                NaN  ...   \n",
       "4                   b'True'   b'11:0-22:0'                NaN  ...   \n",
       "\n",
       "                               attributes.BestNights  \\\n",
       "0                                                NaN   \n",
       "1                                                NaN   \n",
       "2                                                NaN   \n",
       "3                                                NaN   \n",
       "4  b\"{'monday': False, 'tuesday': False, 'friday'...   \n",
       "\n",
       "  attributes.AcceptsInsurance attributes.RestaurantsDelivery  \\\n",
       "0                         NaN                       b'False'   \n",
       "1                         NaN                       b'False'   \n",
       "2                         NaN                            NaN   \n",
       "3                         NaN                       b'False'   \n",
       "4                         NaN                       b'False'   \n",
       "\n",
       "  attributes.DietaryRestrictions attributes.BusinessAcceptsBitcoin  \\\n",
       "0                            NaN                               NaN   \n",
       "1                            NaN                               NaN   \n",
       "2                            NaN                               NaN   \n",
       "3                            NaN                               NaN   \n",
       "4                            NaN                               NaN   \n",
       "\n",
       "                           address attributes.GoodForKids  \\\n",
       "0            b'366 Queen Street E'               b'False'   \n",
       "1       b'414 Roncesvalles Avenue'                b'True'   \n",
       "2         b'2817 E Washington Ave'                b'True'   \n",
       "3  b'2323 32 Avenue NE, Suite 108'                b'True'   \n",
       "4        b'2470 W Happy Valley Rd'                b'True'   \n",
       "\n",
       "                              attributes.GoodForMeal  \\\n",
       "0  b\"{'dessert': False, 'latenight': False, 'lunc...   \n",
       "1  b\"{'dessert': False, 'latenight': False, 'lunc...   \n",
       "2                                                NaN   \n",
       "3  b\"{'dessert': False, 'latenight': False, 'lunc...   \n",
       "4  b\"{'dessert': False, 'latenight': False, 'lunc...   \n",
       "\n",
       "                                               hours  \\\n",
       "0  {'Tuesday': '11:30-0:0', 'Wednesday': '11:30-0...   \n",
       "1  {'Monday': '12:0-21:0', 'Tuesday': '12:0-21:0'...   \n",
       "2  {'Monday': '11:30-21:0', 'Wednesday': '11:30-2...   \n",
       "3  {'Monday': '0:0-0:0', 'Tuesday': '17:0-21:30',...   \n",
       "4  {'Monday': '0:0-0:0', 'Tuesday': '11:0-21:0', ...   \n",
       "\n",
       "                                              review  \n",
       "0  Overall wonderful experience. \\n\\nThe owner Fa...  \n",
       "1  VIBE: Nieghbourhood hole. TV playing sports, p...  \n",
       "2  Viet House is very good.  The food was fresh, ...  \n",
       "3  This is a really good place. Not truly authent...  \n",
       "4  This place is great. Think fast food Italian s...  \n",
       "\n",
       "[5 rows x 61 columns]"
      ]
     },
     "execution_count": 5,
     "metadata": {},
     "output_type": "execute_result"
    }
   ],
   "source": [
    "df_test.head()"
   ]
  },
  {
   "cell_type": "code",
   "execution_count": 14,
   "metadata": {},
   "outputs": [],
   "source": [
    "review = list(df_test[\"review\"])"
   ]
  },
  {
   "cell_type": "code",
   "execution_count": 15,
   "metadata": {},
   "outputs": [
    {
     "data": {
      "text/plain": [
       "list"
      ]
     },
     "execution_count": 15,
     "metadata": {},
     "output_type": "execute_result"
    }
   ],
   "source": [
    "type(review)"
   ]
  },
  {
   "cell_type": "code",
   "execution_count": 18,
   "metadata": {},
   "outputs": [
    {
     "data": {
      "text/plain": [
       "'VIBE: Nieghbourhood hole. TV playing sports, patrons usually sitting alone but chatting with one another. \\\\n\\\\nFOOD:\\\\nI tried the pad thai. It was plentiful but bad--slimy noodles sitting in a soup of watery sauce. Not only was it totally unappetizing, but it wasn\\\\\\'t even pad thai. \\\\n\\\\nGiven that Vicky\\\\\\'s is about a 1 minute walk from me, I wanted to give it another chance. Perhaps I should have expected total crud from a $6,99 deal served to me late at 9pm. Perhaps other dishes would be better!\\\\n\\\\nI dont even remember what my next order was, because it was so similar to the \"pad thai\". Slimy noodles sitting in watery sauce. Except it was $9.99 and I felt very ripped off.\\\\n\\\\nI hate to hate on a neighbourhood joint, so here are the positives: \\\\n-portions are large \\\\n-prices are cheap\\\\n-open late\\\\n-service is super fast and friendly\\\\n-if you like slimy noodles sitting in watery sauce--welcome to your own personal nirvana! \\\\n\\\\nMaybe try the fish and chips? Going here reminded me that I should go here more often.\\\\n\\\\nI\\'ve been there before for the Thai food and had a good time, but when my dad and I had the craving for fish and chips, this was the first place I could think of near me. They were out of the Halibut, but the haddock and chips did not disappoint. We also got \\'coslaw\\' which was a little over sauced, but worth the $1.50. Also beer was very inexpensive.\\\\n\\\\nThe atmosphere isn\\'t for everyone, but if you like the kitchy divey vibe with lots of home made signs and photos of Thai royalty, this is your spot. I make this mistake often: I go to places that have been highly recommended for certain specialties and end up ordering something different (that they probably never sell). On a very hot day, I was taken to Vicky\\'s by two long time residents of Roncesvalles for what was promised to be excellent fish and chips. \\\\n\\\\nThe mishmash of dated furnishings, handwritten menus on neon poster board, and framed travel photos taped to the wall with packing tape all seemed promising. After all, some of the best food in the world is served from the grungiest restaurants. While there was an unexpected and large Thai half of the menu that seemed tempting, I decided to save that for a future visit.\\\\n\\\\nInstead of the fish and chips that my al fresco lunch dates ordered, I had a mixed seafood and chips. What can I say? It just sounded scrumptious at the time. In fact, the big, juicy scallops, (overly) deep fried shrimp, and (extremely heavily) breaded haddock were alright. The fries though, were far too greasy. My wonderfully creamy coleslaw was humongous and started to taste less wonderful as I became overwhelmed by it. Now I know that despite my sworn love for mayo, that I too have a limit for it. Boyfriend gets spicy chicken fried rice all the time and adds siracha sauce at home i have tried things on the menu but honey chicken is my favourite, we sometimes get chicken balls and they are also good. We always get takeout and were kinda regulars, staff is very friendly and i would recommend for someone to try Very cheap place that does fish and chips and basic, takeout Thai food.\\\\n\\\\nTheir tasty pad thai is very inexpensive at $6.99, but well above average- that\\'s what they do best. The fish and chips, also inexpensive, is good (though small takeout portions), the fries are a little bland. The Thai takeoutish food varies- curries are good, basil chicken ok, glass noodles bland. So hit and miss, usually pretty good for the price.\\\\n\\\\nWhile this may not be the place to travel across the city for for authentic Thai food, it is a community staple, and the owners are nice people.'"
      ]
     },
     "execution_count": 18,
     "metadata": {},
     "output_type": "execute_result"
    }
   ],
   "source": [
    "review[1]"
   ]
  },
  {
   "cell_type": "code",
   "execution_count": 19,
   "metadata": {},
   "outputs": [
    {
     "data": {
      "text/plain": [
       "10000"
      ]
     },
     "execution_count": 19,
     "metadata": {},
     "output_type": "execute_result"
    }
   ],
   "source": [
    "len(review)"
   ]
  },
  {
   "cell_type": "code",
   "execution_count": 23,
   "metadata": {},
   "outputs": [],
   "source": [
    "restaurant_types = [\n",
    "    \"american (traditional)\", \"mexican\", \"italian\", \"chinese\",\n",
    "    \"american (new)\", \"japanese\", \"mediterranean\", \"canadian (new)\",\n",
    "    \"thai\", \"asian fusion\"\n",
    "]"
   ]
  },
  {
   "cell_type": "code",
   "execution_count": 187,
   "metadata": {},
   "outputs": [],
   "source": [
    "pred = []\n",
    "for r in review:\n",
    "    prompt = f\"Review: {r} Based on the above review, determine which restaurant style most match this review, food styles only including [american (traditional), mexican, italian, chinese, american (new), japanese, mediterranean, canadian (new), thai, asian fusion], please just provide your one prediction and do not make any prediction which is out of the list\"\n",
    "    response = get_completion(prompt)\n",
    "    pred.append(response)"
   ]
  },
  {
   "cell_type": "code",
   "execution_count": 243,
   "metadata": {},
   "outputs": [],
   "source": [
    "prediction = []\n",
    "for i, p in enumerate(pred):\n",
    "    found = False\n",
    "    for t in restaurant_types:\n",
    "        if t in p.lower():\n",
    "            prediction.append(t)\n",
    "            found = True\n",
    "            break\n",
    "    if not found:\n",
    "        prediction.append(\"not found:\" + p)"
   ]
  },
  {
   "cell_type": "code",
   "execution_count": 195,
   "metadata": {},
   "outputs": [],
   "source": [
    "dic = {\"Id\": [], \"Predicted\": []}\n",
    "for i, pred in enumerate(prediction):\n",
    "    dic[\"Id\"].append(i)\n",
    "    dic[\"Predicted\"].append(pred)\n"
   ]
  },
  {
   "cell_type": "code",
   "execution_count": 197,
   "metadata": {},
   "outputs": [],
   "source": [
    "dic_df = pd.DataFrame.from_dict(dic)\n",
    "dic_df.to_csv(\"predicted gpt.csv\", index=False)"
   ]
  },
  {
   "cell_type": "code",
   "execution_count": null,
   "metadata": {},
   "outputs": [],
   "source": []
  }
 ],
 "metadata": {
  "kernelspec": {
   "display_name": "base",
   "language": "python",
   "name": "python3"
  },
  "language_info": {
   "codemirror_mode": {
    "name": "ipython",
    "version": 3
   },
   "file_extension": ".py",
   "mimetype": "text/x-python",
   "name": "python",
   "nbconvert_exporter": "python",
   "pygments_lexer": "ipython3",
   "version": "3.11.7"
  },
  "orig_nbformat": 4
 },
 "nbformat": 4,
 "nbformat_minor": 2
}
